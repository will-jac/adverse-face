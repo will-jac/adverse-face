{
 "cells": [
  {
   "cell_type": "code",
   "execution_count": null,
   "metadata": {},
   "outputs": [],
   "source": [
    "import matplotlib.pyplot as plt\n",
    "\n",
    "from data.datasets import load_data\n",
    "\n",
    "data_loader = load_data('lfw')"
   ]
  },
  {
   "cell_type": "code",
   "execution_count": null,
   "metadata": {},
   "outputs": [],
   "source": [
    "for img_batch, targ_batch in data_loader:\n",
    "    for img, targ in zip(img_batch, targ_batch):\n",
    "        plt.figure()\n",
    "        plt.imshow(img.permute(1, 2, 0)) \n",
    "        plt.show()\n",
    "        break\n",
    "    break"
   ]
  }
 ],
 "metadata": {
  "interpreter": {
   "hash": "da77f27a148b635e5652981c3cc197cf14e9b901782b5e23300b66130c63e95c"
  },
  "kernelspec": {
   "display_name": "Python 3.8.10 64-bit ('adverse-face': pyenv)",
   "name": "python3"
  },
  "language_info": {
   "codemirror_mode": {
    "name": "ipython",
    "version": 3
   },
   "file_extension": ".py",
   "mimetype": "text/x-python",
   "name": "python",
   "nbconvert_exporter": "python",
   "pygments_lexer": "ipython3",
   "version": "3.8.10"
  },
  "orig_nbformat": 4
 },
 "nbformat": 4,
 "nbformat_minor": 2
}
