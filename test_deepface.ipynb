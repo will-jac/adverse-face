{
 "cells": [
  {
   "cell_type": "code",
   "execution_count": 20,
   "metadata": {},
   "outputs": [],
   "source": [
    "from deepface import DeepFace\n",
    "from deepface.commons import functions\n",
    "import matplotlib.pyplot as plt\n",
    "from PIL import Image\n",
    "\n",
    "images_path = 'C:/Users/JackA/Pictures/'\n",
    "\n",
    "def save_img(img, path):\n",
    "    im = Image.fromarray(img)\n",
    "    im.save(path)"
   ]
  },
  {
   "cell_type": "code",
   "execution_count": 22,
   "metadata": {},
   "outputs": [],
   "source": [
    "backends = ['opencv', 'ssd', 'mtcnn', 'retinaface']\n",
    "for i in range(20):\n",
    "    img = images_path + 'cropped/jack_williams_'+str(i)+'.jpg'\n",
    "    # auto converts to desired shape\n",
    "    detected_face = DeepFace.detectFace(img, detector_backend = backends[-1])\n",
    "    save_path = images_path + 'processed/jack_williams_'+str(i)+'.jpg'\n",
    "    plt.imsave(save_path, detected_face)\n",
    "    # save_img(detected_face, save_path)\n",
    "    "
   ]
  },
  {
   "cell_type": "code",
   "execution_count": null,
   "metadata": {},
   "outputs": [],
   "source": []
  }
 ],
 "metadata": {
  "interpreter": {
   "hash": "36adf5f00a0029680ea1894e2dbc131c01a3d67017db3edea0bbb35f2f4f99bf"
  },
  "kernelspec": {
   "display_name": "Python 3.9.8 64-bit (windows store)",
   "language": "python",
   "name": "python3"
  },
  "language_info": {
   "codemirror_mode": {
    "name": "ipython",
    "version": 3
   },
   "file_extension": ".py",
   "mimetype": "text/x-python",
   "name": "python",
   "nbconvert_exporter": "python",
   "pygments_lexer": "ipython3",
   "version": "3.9.9"
  },
  "orig_nbformat": 4
 },
 "nbformat": 4,
 "nbformat_minor": 2
}
